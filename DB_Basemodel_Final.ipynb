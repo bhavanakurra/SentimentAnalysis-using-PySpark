{
  "nbformat": 4,
  "nbformat_minor": 0,
  "metadata": {
    "colab": {
      "name": "DB_Basemodel_Final.ipynb",
      "provenance": [],
      "collapsed_sections": []
    },
    "kernelspec": {
      "name": "python3",
      "display_name": "Python 3"
    },
    "language_info": {
      "name": "python"
    }
  },
  "cells": [
    {
      "cell_type": "code",
      "execution_count": null,
      "metadata": {
        "id": "4q8Q1lC8SSXg"
      },
      "outputs": [],
      "source": [
        "import h5py\n",
        "import keras\n",
        "import matplotlib.pyplot as plt\n",
        "import numpy as np\n",
        "from os import access\n",
        "import pandas as pd\n",
        "import os"
      ]
    },
    {
      "cell_type": "code",
      "source": [
        "from google.colab import drive\n",
        "drive.mount('/content/drive', force_remount=True)"
      ],
      "metadata": {
        "colab": {
          "base_uri": "https://localhost:8080/"
        },
        "id": "a9VOnCrHpPhp",
        "outputId": "6af36dde-982d-4bec-9882-92c486cd2d3b"
      },
      "execution_count": null,
      "outputs": [
        {
          "output_type": "stream",
          "name": "stdout",
          "text": [
            "Mounted at /content/drive\n"
          ]
        }
      ]
    },
    {
      "cell_type": "code",
      "source": [
        "!ls \"/content/drive/My Drive/DB/Review/reviews_processed_final/\""
      ],
      "metadata": {
        "colab": {
          "base_uri": "https://localhost:8080/"
        },
        "id": "e50kItx_phT3",
        "outputId": "44b86267-4003-4aee-c26e-c79f64b9cb85"
      },
      "execution_count": null,
      "outputs": [
        {
          "output_type": "stream",
          "name": "stdout",
          "text": [
            "review1.csv\n"
          ]
        }
      ]
    },
    {
      "cell_type": "code",
      "source": [
        "l = os.listdir('/content/drive/My Drive/DB/Review/reviews_processed_final/')\n",
        "print(l)"
      ],
      "metadata": {
        "colab": {
          "base_uri": "https://localhost:8080/"
        },
        "id": "9dQHU6sJqeMB",
        "outputId": "1cd6ea5a-1f52-4839-87ca-7898fa16e5a1"
      },
      "execution_count": null,
      "outputs": [
        {
          "output_type": "stream",
          "name": "stdout",
          "text": [
            "['review1.csv']\n"
          ]
        }
      ]
    },
    {
      "cell_type": "code",
      "source": [
        "dir = '/content/drive/My Drive/DB/Review/reviews_processed_final/review1.csv'\n",
        "df = pd.read_csv(dir, sep=',')\n",
        "df.dropna(inplace=True)\n",
        "df = df.loc[:,['basemodel_text', 'label']]\n",
        "df.info()\n",
        "df.head()"
      ],
      "metadata": {
        "colab": {
          "base_uri": "https://localhost:8080/",
          "height": 362
        },
        "id": "_nf7FcZwq7gd",
        "outputId": "2055f916-46fe-4a98-a594-daf4e8da2a50"
      },
      "execution_count": null,
      "outputs": [
        {
          "output_type": "stream",
          "name": "stdout",
          "text": [
            "<class 'pandas.core.frame.DataFrame'>\n",
            "Int64Index: 999987 entries, 0 to 999999\n",
            "Data columns (total 2 columns):\n",
            " #   Column          Non-Null Count   Dtype \n",
            "---  ------          --------------   ----- \n",
            " 0   basemodel_text  999987 non-null  object\n",
            " 1   label           999987 non-null  int64 \n",
            "dtypes: int64(1), object(1)\n",
            "memory usage: 22.9+ MB\n"
          ]
        },
        {
          "output_type": "execute_result",
          "data": {
            "text/html": [
              "<div>\n",
              "<style scoped>\n",
              "    .dataframe tbody tr th:only-of-type {\n",
              "        vertical-align: middle;\n",
              "    }\n",
              "\n",
              "    .dataframe tbody tr th {\n",
              "        vertical-align: top;\n",
              "    }\n",
              "\n",
              "    .dataframe thead th {\n",
              "        text-align: right;\n",
              "    }\n",
              "</style>\n",
              "<table border=\"1\" class=\"dataframe\">\n",
              "  <thead>\n",
              "    <tr style=\"text-align: right;\">\n",
              "      <th></th>\n",
              "      <th>basemodel_text</th>\n",
              "      <th>label</th>\n",
              "    </tr>\n",
              "  </thead>\n",
              "  <tbody>\n",
              "    <tr>\n",
              "      <th>0</th>\n",
              "      <td>apparently pride osteria rough summer evidence...</td>\n",
              "      <td>1</td>\n",
              "    </tr>\n",
              "    <tr>\n",
              "      <th>1</th>\n",
              "      <td>store pretty good not great walmart prefer mil...</td>\n",
              "      <td>1</td>\n",
              "    </tr>\n",
              "    <tr>\n",
              "      <th>2</th>\n",
              "      <td>call wvm recommendation couple friend used pas...</td>\n",
              "      <td>1</td>\n",
              "    </tr>\n",
              "    <tr>\n",
              "      <th>3</th>\n",
              "      <td>ive stay many marriott renaissance marriott hu...</td>\n",
              "      <td>0</td>\n",
              "    </tr>\n",
              "    <tr>\n",
              "      <th>4</th>\n",
              "      <td>food alway great service manager well staff su...</td>\n",
              "      <td>1</td>\n",
              "    </tr>\n",
              "  </tbody>\n",
              "</table>\n",
              "</div>"
            ],
            "text/plain": [
              "                                      basemodel_text  label\n",
              "0  apparently pride osteria rough summer evidence...      1\n",
              "1  store pretty good not great walmart prefer mil...      1\n",
              "2  call wvm recommendation couple friend used pas...      1\n",
              "3  ive stay many marriott renaissance marriott hu...      0\n",
              "4  food alway great service manager well staff su...      1"
            ]
          },
          "metadata": {},
          "execution_count": 5
        }
      ]
    },
    {
      "cell_type": "code",
      "source": [
        "df['label'].value_counts()/df['label'].count()"
      ],
      "metadata": {
        "colab": {
          "base_uri": "https://localhost:8080/"
        },
        "id": "L_o4B9tvywma",
        "outputId": "b1f50551-451f-414a-991d-3d0b5a893d33"
      },
      "execution_count": null,
      "outputs": [
        {
          "output_type": "execute_result",
          "data": {
            "text/plain": [
              "1    0.664248\n",
              "0    0.335752\n",
              "Name: label, dtype: float64"
            ]
          },
          "metadata": {},
          "execution_count": 6
        }
      ]
    },
    {
      "cell_type": "code",
      "source": [
        "df['label'].value_counts()"
      ],
      "metadata": {
        "colab": {
          "base_uri": "https://localhost:8080/"
        },
        "id": "N97ZXM_czPSs",
        "outputId": "9a687403-a9a9-41f4-8662-65263e15e061"
      },
      "execution_count": null,
      "outputs": [
        {
          "output_type": "execute_result",
          "data": {
            "text/plain": [
              "1    664239\n",
              "0    335748\n",
              "Name: label, dtype: int64"
            ]
          },
          "metadata": {},
          "execution_count": 7
        }
      ]
    },
    {
      "cell_type": "code",
      "source": [
        "#Decreasing the number of positive reviews to 335748 to maintain class balance\n",
        "positive_reviews = df[df['label']==1].head(335748)\n",
        "negative_rewviews = df[df['label']==0]\n",
        "df_main = pd.concat([positive_reviews, negative_rewviews], ignore_index=True)\n",
        "df_main.info()\n",
        "df_main.head()"
      ],
      "metadata": {
        "colab": {
          "base_uri": "https://localhost:8080/",
          "height": 362
        },
        "id": "xZ8IDWE_zAiS",
        "outputId": "d067438b-0b4c-452a-e02e-89c1551b148f"
      },
      "execution_count": null,
      "outputs": [
        {
          "output_type": "stream",
          "name": "stdout",
          "text": [
            "<class 'pandas.core.frame.DataFrame'>\n",
            "RangeIndex: 671496 entries, 0 to 671495\n",
            "Data columns (total 2 columns):\n",
            " #   Column          Non-Null Count   Dtype \n",
            "---  ------          --------------   ----- \n",
            " 0   basemodel_text  671496 non-null  object\n",
            " 1   label           671496 non-null  int64 \n",
            "dtypes: int64(1), object(1)\n",
            "memory usage: 10.2+ MB\n"
          ]
        },
        {
          "output_type": "execute_result",
          "data": {
            "text/html": [
              "<div>\n",
              "<style scoped>\n",
              "    .dataframe tbody tr th:only-of-type {\n",
              "        vertical-align: middle;\n",
              "    }\n",
              "\n",
              "    .dataframe tbody tr th {\n",
              "        vertical-align: top;\n",
              "    }\n",
              "\n",
              "    .dataframe thead th {\n",
              "        text-align: right;\n",
              "    }\n",
              "</style>\n",
              "<table border=\"1\" class=\"dataframe\">\n",
              "  <thead>\n",
              "    <tr style=\"text-align: right;\">\n",
              "      <th></th>\n",
              "      <th>basemodel_text</th>\n",
              "      <th>label</th>\n",
              "    </tr>\n",
              "  </thead>\n",
              "  <tbody>\n",
              "    <tr>\n",
              "      <th>0</th>\n",
              "      <td>apparently pride osteria rough summer evidence...</td>\n",
              "      <td>1</td>\n",
              "    </tr>\n",
              "    <tr>\n",
              "      <th>1</th>\n",
              "      <td>store pretty good not great walmart prefer mil...</td>\n",
              "      <td>1</td>\n",
              "    </tr>\n",
              "    <tr>\n",
              "      <th>2</th>\n",
              "      <td>call wvm recommendation couple friend used pas...</td>\n",
              "      <td>1</td>\n",
              "    </tr>\n",
              "    <tr>\n",
              "      <th>3</th>\n",
              "      <td>food alway great service manager well staff su...</td>\n",
              "      <td>1</td>\n",
              "    </tr>\n",
              "    <tr>\n",
              "      <th>4</th>\n",
              "      <td>probably one better breakfast sandwich ive eve...</td>\n",
              "      <td>1</td>\n",
              "    </tr>\n",
              "  </tbody>\n",
              "</table>\n",
              "</div>"
            ],
            "text/plain": [
              "                                      basemodel_text  label\n",
              "0  apparently pride osteria rough summer evidence...      1\n",
              "1  store pretty good not great walmart prefer mil...      1\n",
              "2  call wvm recommendation couple friend used pas...      1\n",
              "3  food alway great service manager well staff su...      1\n",
              "4  probably one better breakfast sandwich ive eve...      1"
            ]
          },
          "metadata": {},
          "execution_count": 8
        }
      ]
    },
    {
      "cell_type": "code",
      "source": [
        "df_main['label'].value_counts()/df_main['label'].count()  #classes are balanced"
      ],
      "metadata": {
        "colab": {
          "base_uri": "https://localhost:8080/"
        },
        "id": "2zK3vOZhzw_K",
        "outputId": "9b6c89e2-bd04-4ccd-9c59-a9c5196a6133"
      },
      "execution_count": null,
      "outputs": [
        {
          "output_type": "execute_result",
          "data": {
            "text/plain": [
              "1    0.5\n",
              "0    0.5\n",
              "Name: label, dtype: float64"
            ]
          },
          "metadata": {},
          "execution_count": 9
        }
      ]
    },
    {
      "cell_type": "code",
      "source": [
        "text_list  = df_main.loc[:,'basemodel_text'].values\n",
        "y = df_main.loc[:,'label'].values\n",
        "\n",
        "#applying count vectorizer on text\n",
        "from sklearn.feature_extraction.text import CountVectorizer\n",
        "vectorizer = CountVectorizer(max_features=250, lowercase=True)\n",
        "vectorizer.fit(text_list)\n",
        "vector = vectorizer.transform(text_list)\n",
        "\n",
        "print(\"Vocabulary : \",len(vectorizer.vocabulary_))\n",
        "print(\"Final doc : \",type(vector.toarray()))\n",
        "\n",
        "X = vector.toarray()"
      ],
      "metadata": {
        "colab": {
          "base_uri": "https://localhost:8080/"
        },
        "id": "BK9QChZJycnQ",
        "outputId": "0b6d7451-8aa2-4fcf-cb9f-4ed9b646a8b9"
      },
      "execution_count": null,
      "outputs": [
        {
          "output_type": "stream",
          "name": "stdout",
          "text": [
            "Vocabulary :  250\n",
            "Final doc :  <class 'numpy.ndarray'>\n"
          ]
        }
      ]
    },
    {
      "cell_type": "code",
      "source": [
        "from sklearn.model_selection import train_test_split\n",
        "X_train, X_test, y_train, y_test = train_test_split(X, y, test_size=0.20, random_state=42)\n",
        "print(len(X_train))\n",
        "print(len(X_test))"
      ],
      "metadata": {
        "colab": {
          "base_uri": "https://localhost:8080/"
        },
        "id": "0_A88HhereWQ",
        "outputId": "d5884806-c2f2-4664-9255-a360e9130c6f"
      },
      "execution_count": null,
      "outputs": [
        {
          "output_type": "stream",
          "name": "stdout",
          "text": [
            "537196\n",
            "134300\n"
          ]
        }
      ]
    },
    {
      "cell_type": "code",
      "source": [
        "#Logistic Regression\n",
        "from sklearn.linear_model import LogisticRegression\n",
        "import time\n",
        "from sklearn.metrics import accuracy_score\n",
        "from sklearn.metrics import f1_score\n",
        "\n",
        "\n",
        "start = time.time()\n",
        "model1 = LogisticRegression(random_state=0)\n",
        "model1.fit(X_train, y_train)\n",
        "y_train_pred1 = model1.predict(X_train)\n",
        "end = time.time()\n",
        "\n",
        "y_pred1 = model1.predict(X_test)\n",
        "print(\"Train Accuracy : \",accuracy_score(y_train, y_train_pred1))\n",
        "print(\"Test Accuracy : \",accuracy_score(y_test, y_pred1))\n",
        "print(\"F1 score : \",f1_score(y_test, y_pred1))"
      ],
      "metadata": {
        "colab": {
          "base_uri": "https://localhost:8080/"
        },
        "id": "svxdvkKC159A",
        "outputId": "f11c477b-76a0-425e-b7e2-f6b74b3c7677"
      },
      "execution_count": null,
      "outputs": [
        {
          "output_type": "stream",
          "name": "stdout",
          "text": [
            "Train Accuracy :  0.8271952881257493\n",
            "Test Accuracy :  0.8280044676098287\n",
            "F1 score :  0.8274661826547456\n"
          ]
        }
      ]
    },
    {
      "cell_type": "code",
      "source": [
        "#Decision Tree\n",
        "from sklearn.tree import DecisionTreeClassifier\n",
        "import time\n",
        "from sklearn.metrics import accuracy_score\n",
        "\n",
        "\n",
        "start = time.time()\n",
        "model_dt = DecisionTreeClassifier(criterion='entropy',random_state=0)\n",
        "model_dt.fit(X_train, y_train)\n",
        "y_train_pred2 = model_dt.predict(X_train)\n",
        "\n",
        "end = time.time()\n",
        "\n",
        "\n",
        "y_pred2 = model_dt.predict(X_test)\n",
        "print(\"Train Accuracy \",accuracy_score(y_train, y_train_pred2))\n",
        "print(\"Test Accuracy \",accuracy_score(y_test, y_pred2))\n",
        "print(\"F1 score : \",f1_score(y_test, y_pred2))"
      ],
      "metadata": {
        "colab": {
          "base_uri": "https://localhost:8080/"
        },
        "id": "SUP7uYtMu-_Q",
        "outputId": "fa88516f-0dac-4ba9-ec93-0cce8d166abf"
      },
      "execution_count": null,
      "outputs": [
        {
          "output_type": "stream",
          "name": "stdout",
          "text": [
            "Train Accuracy  0.9988477203851108\n",
            "Test Accuracy  0.7331198808637379\n",
            "F1 score :  0.7332033169075941\n"
          ]
        }
      ]
    },
    {
      "cell_type": "code",
      "source": [
        ""
      ],
      "metadata": {
        "id": "WvU1FS0YknE1"
      },
      "execution_count": null,
      "outputs": []
    }
  ]
}