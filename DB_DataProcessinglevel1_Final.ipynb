{
  "nbformat": 4,
  "nbformat_minor": 0,
  "metadata": {
    "colab": {
      "name": "DB_DataProcessinglevel1_Final.ipynb",
      "provenance": [],
      "collapsed_sections": []
    },
    "kernelspec": {
      "name": "python3",
      "display_name": "Python 3"
    },
    "language_info": {
      "name": "python"
    }
  },
  "cells": [
    {
      "cell_type": "code",
      "execution_count": null,
      "metadata": {
        "id": "9f4rR-S7U0uB"
      },
      "outputs": [],
      "source": [
        "from os import access\n",
        "import pandas as pd\n",
        "import h5py\n",
        "\n",
        "review_json_path = '/Users/Admin/Downloads/yelp_academic_dataset_review.json'\n",
        "size = 1000000\n",
        "review = pd.read_json(review_json_path, lines=True,\n",
        "                      dtype={'areview_id':str,'user_id':str,\n",
        "                             'business_id':str,'stars':int,\n",
        "                             'date':str,'text':str,'useful':int,\n",
        "                             'funny':int,'cool':int},\n",
        "                      chunksize=size)\n",
        "print(type(review))\n",
        "c=0\n",
        "for chunk in review:\n",
        "    print(c)\n",
        "    c+=1\n",
        "\n",
        "    df = pd.DataFrame()\n",
        "    chunk_list = []\n",
        "    reviewl = []\n",
        "    starl = []\n",
        "\n",
        "    chunk_list.append(chunk)\n",
        "    df = pd.concat(chunk_list, ignore_index=True, join= \"outer\", axis=0)\n",
        "    fn = 'review'+str(c)\n",
        "    print(df.loc[:,['text','stars']].info())\n",
        "    df.loc[:,['text','stars']].to_csv('/Users/Admin/Downloads/review/'+fn+'.csv')"
      ]
    }
  ]
}